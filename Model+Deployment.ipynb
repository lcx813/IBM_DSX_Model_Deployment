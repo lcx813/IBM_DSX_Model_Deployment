{
 "cells": [
  {
   "cell_type": "markdown",
   "metadata": {},
   "source": [
    "# Deploy scikit Machine Learning Model using DSX"
   ]
  },
  {
   "cell_type": "markdown",
   "metadata": {},
   "source": [
    "### Setup"
   ]
  },
  {
   "cell_type": "markdown",
   "metadata": {},
   "source": [
    "In order to deploy models on DSX, you need to have a Watson Machine Learning Service instance first."
   ]
  },
  {
   "cell_type": "markdown",
   "metadata": {},
   "source": [
    "### Load Data"
   ]
  },
  {
   "cell_type": "markdown",
   "metadata": {},
   "source": [
    "Here I used auto-mpg dataset for demo. Auto-MPG: https://archive.ics.uci.edu/ml/datasets/auto+mpg"
   ]
  },
  {
   "cell_type": "code",
   "execution_count": 1,
   "metadata": {
    "scrolled": true
   },
   "outputs": [
    {
     "data": {
      "text/html": [
       "<div>\n",
       "<table border=\"1\" class=\"dataframe\">\n",
       "  <thead>\n",
       "    <tr style=\"text-align: right;\">\n",
       "      <th></th>\n",
       "      <th>mpg</th>\n",
       "      <th>cylinders</th>\n",
       "      <th>displacement</th>\n",
       "      <th>horsepower</th>\n",
       "      <th>weight</th>\n",
       "      <th>acceleration</th>\n",
       "      <th>year</th>\n",
       "      <th>origin</th>\n",
       "      <th>name</th>\n",
       "    </tr>\n",
       "  </thead>\n",
       "  <tbody>\n",
       "    <tr>\n",
       "      <th>0</th>\n",
       "      <td>18</td>\n",
       "      <td>8</td>\n",
       "      <td>307</td>\n",
       "      <td>130</td>\n",
       "      <td>3504</td>\n",
       "      <td>12.0</td>\n",
       "      <td>70</td>\n",
       "      <td>1</td>\n",
       "      <td>chevrolet chevelle malibu</td>\n",
       "    </tr>\n",
       "    <tr>\n",
       "      <th>1</th>\n",
       "      <td>15</td>\n",
       "      <td>8</td>\n",
       "      <td>350</td>\n",
       "      <td>165</td>\n",
       "      <td>3693</td>\n",
       "      <td>11.5</td>\n",
       "      <td>70</td>\n",
       "      <td>1</td>\n",
       "      <td>buick skylark 320</td>\n",
       "    </tr>\n",
       "    <tr>\n",
       "      <th>2</th>\n",
       "      <td>18</td>\n",
       "      <td>8</td>\n",
       "      <td>318</td>\n",
       "      <td>150</td>\n",
       "      <td>3436</td>\n",
       "      <td>11.0</td>\n",
       "      <td>70</td>\n",
       "      <td>1</td>\n",
       "      <td>plymouth satellite</td>\n",
       "    </tr>\n",
       "    <tr>\n",
       "      <th>3</th>\n",
       "      <td>16</td>\n",
       "      <td>8</td>\n",
       "      <td>304</td>\n",
       "      <td>150</td>\n",
       "      <td>3433</td>\n",
       "      <td>12.0</td>\n",
       "      <td>70</td>\n",
       "      <td>1</td>\n",
       "      <td>amc rebel sst</td>\n",
       "    </tr>\n",
       "    <tr>\n",
       "      <th>4</th>\n",
       "      <td>17</td>\n",
       "      <td>8</td>\n",
       "      <td>302</td>\n",
       "      <td>140</td>\n",
       "      <td>3449</td>\n",
       "      <td>10.5</td>\n",
       "      <td>70</td>\n",
       "      <td>1</td>\n",
       "      <td>ford torino</td>\n",
       "    </tr>\n",
       "  </tbody>\n",
       "</table>\n",
       "</div>"
      ],
      "text/plain": [
       "   mpg  cylinders  displacement  horsepower  weight  acceleration  year  \\\n",
       "0   18          8           307         130    3504          12.0    70   \n",
       "1   15          8           350         165    3693          11.5    70   \n",
       "2   18          8           318         150    3436          11.0    70   \n",
       "3   16          8           304         150    3433          12.0    70   \n",
       "4   17          8           302         140    3449          10.5    70   \n",
       "\n",
       "   origin                       name  \n",
       "0       1  chevrolet chevelle malibu  \n",
       "1       1          buick skylark 320  \n",
       "2       1         plymouth satellite  \n",
       "3       1              amc rebel sst  \n",
       "4       1                ford torino  "
      ]
     },
     "execution_count": 1,
     "metadata": {},
     "output_type": "execute_result"
    }
   ],
   "source": [
    "import pandas as pd\n",
    "import io\n",
    "import requests\n",
    "import numpy as np\n",
    "from sklearn import metrics\n",
    "\n",
    "\n",
    "url=\"https://raw.githubusercontent.com/lcx813/data/master/auto-mpg.csv\"\n",
    "df=pd.read_csv(io.StringIO(requests.get(url).content.decode('utf-8')),na_values=['NA','?'])\n",
    "\n",
    "df.head()"
   ]
  },
  {
   "cell_type": "markdown",
   "metadata": {},
   "source": [
    "Several useful functions for data preprocessing, which is created by Dr.Jeff Heaton(https://www.linkedin.com/in/jeffheaton/) for his deep learning class in WashU. You can find it on Jeff's Github https://github.com/jeffheaton/t81_558_deep_learning/blob/master/jeffs_helpful.ipynb"
   ]
  },
  {
   "cell_type": "code",
   "execution_count": 2,
   "metadata": {
    "collapsed": true
   },
   "outputs": [],
   "source": [
    "import pandas as pd\n",
    "from sklearn import preprocessing\n",
    "\n",
    "# Encode text values to dummy variables(i.e. [1,0,0],[0,1,0],[0,0,1] for red,green,blue)\n",
    "def encode_text_dummy(df, name):\n",
    "    dummies = pd.get_dummies(df[name])\n",
    "    for x in dummies.columns:\n",
    "        dummy_name = \"{}-{}\".format(name, x)\n",
    "        df[dummy_name] = dummies[x]\n",
    "    df.drop(name, axis=1, inplace=True)\n",
    "    \n",
    "# Encode text values to indexes(i.e. [1],[2],[3] for red,green,blue).\n",
    "def encode_text_index(df, name):\n",
    "    le = preprocessing.LabelEncoder()\n",
    "    df[name] = le.fit_transform(df[name])\n",
    "    return le.classes_\n",
    "\n",
    "# Convert all missing values in the specified column to the median\n",
    "def missing_median(df, name):\n",
    "    med = df[name].median()\n",
    "    df[name] = df[name].fillna(med)\n",
    "    \n",
    "# Convert a Pandas dataframe to the x,y inputs that TensorFlow needs\n",
    "def to_xy(df, target):\n",
    "    result = []\n",
    "    for x in df.columns:\n",
    "        if x != target:\n",
    "            result.append(x)\n",
    "    # find out the type of the target column.  Is it really this hard? :(\n",
    "    target_type = df[target].dtypes\n",
    "    target_type = target_type[0] if hasattr(target_type, '__iter__') else target_type\n",
    "    # Encode to int for classification, float otherwise. TensorFlow likes 32 bits.\n",
    "    if target_type in (np.int64, np.int32):\n",
    "        # Classification\n",
    "        dummies = pd.get_dummies(df[target])\n",
    "        return df.as_matrix(result).astype(np.float32), dummies.as_matrix().astype(np.float32)\n",
    "    else:\n",
    "        # Regression\n",
    "        return df.as_matrix(result).astype(np.float32), df.as_matrix([target]).astype(np.float32)\n",
    "    \n",
    "# Encode a numeric column as zscores\n",
    "def encode_numeric_zscore(df, name, mean=None, sd=None):\n",
    "    if mean is None:\n",
    "        mean = df[name].mean()\n",
    "\n",
    "    if sd is None:\n",
    "        sd = df[name].std()\n",
    "\n",
    "    df[name] = (df[name] - mean) / sd"
   ]
  },
  {
   "cell_type": "markdown",
   "metadata": {},
   "source": [
    "### Data preprocess"
   ]
  },
  {
   "cell_type": "code",
   "execution_count": 3,
   "metadata": {
    "collapsed": true
   },
   "outputs": [],
   "source": [
    "# Data preprocessing and create feature vector\n",
    "missing_median(df, 'horsepower')\n",
    "\n",
    "tmp = df['name']\n",
    "df.drop('name',1,inplace=True)\n",
    "\n",
    "encode_numeric_zscore(df, 'mpg')\n",
    "encode_numeric_zscore(df, 'horsepower')\n",
    "encode_numeric_zscore(df, 'weight')\n",
    "encode_numeric_zscore(df, 'displacement')\n",
    "encode_numeric_zscore(df, 'acceleration')\n",
    "\n",
    "encode_text_dummy(df, 'origin')\n",
    "\n",
    "cylinders = encode_text_index(df, 'cylinders')\n",
    "num_classes = len(cylinders)\n"
   ]
  },
  {
   "cell_type": "markdown",
   "metadata": {},
   "source": [
    "Prepare data and lables for all samples. Split dataset into training and tesing sets."
   ]
  },
  {
   "cell_type": "code",
   "execution_count": 4,
   "metadata": {
    "collapsed": true
   },
   "outputs": [],
   "source": [
    "y = df.cylinders.tolist()"
   ]
  },
  {
   "cell_type": "code",
   "execution_count": 5,
   "metadata": {
    "collapsed": true
   },
   "outputs": [],
   "source": [
    "df.drop('cylinders',1,inplace=True)\n",
    "x = df.values.tolist()\n",
    "data = x\n",
    "label = y"
   ]
  },
  {
   "cell_type": "code",
   "execution_count": 6,
   "metadata": {},
   "outputs": [
    {
     "name": "stdout",
     "output_type": "stream",
     "text": [
      "Number of training records: 278\n",
      "Number of testing records : 80\n",
      "Number of scoring records : 40\n"
     ]
    }
   ],
   "source": [
    "samples_count = 398\n",
    "train_data = x[: int(0.7*samples_count)]\n",
    "train_labels = y[: int(0.7*samples_count)]\n",
    "\n",
    "test_data = x[int(0.7*samples_count): int(0.9*samples_count)]\n",
    "test_labels = y[int(0.7*samples_count): int(0.9*samples_count)]\n",
    "\n",
    "score_data = x[int(0.9*samples_count): ]\n",
    "\n",
    "print(\"Number of training records: \" + str(len(train_data)))\n",
    "print(\"Number of testing records : \" + str(len(test_data)))\n",
    "print(\"Number of scoring records : \" + str(len(score_data)))"
   ]
  },
  {
   "cell_type": "markdown",
   "metadata": {},
   "source": [
    "### Training a model using scikit-learn"
   ]
  },
  {
   "cell_type": "code",
   "execution_count": 7,
   "metadata": {
    "collapsed": true
   },
   "outputs": [],
   "source": [
    "from sklearn import preprocessing\n",
    "from sklearn import svm, metrics\n",
    "from sklearn.ensemble import RandomForestClassifier"
   ]
  },
  {
   "cell_type": "markdown",
   "metadata": {},
   "source": [
    "Define the classifier for model training. Here I used random forest classifier as an example."
   ]
  },
  {
   "cell_type": "code",
   "execution_count": 8,
   "metadata": {
    "collapsed": true
   },
   "outputs": [],
   "source": [
    "clf = RandomForestClassifier(n_estimators=100)"
   ]
  },
  {
   "cell_type": "markdown",
   "metadata": {},
   "source": [
    "Training the model"
   ]
  },
  {
   "cell_type": "code",
   "execution_count": 9,
   "metadata": {
    "collapsed": true
   },
   "outputs": [],
   "source": [
    "model = clf.fit(train_data, train_labels)"
   ]
  },
  {
   "cell_type": "markdown",
   "metadata": {},
   "source": [
    "Make prediction"
   ]
  },
  {
   "cell_type": "code",
   "execution_count": 10,
   "metadata": {},
   "outputs": [
    {
     "name": "stdout",
     "output_type": "stream",
     "text": [
      "Accuracy = 0.91\n"
     ]
    }
   ],
   "source": [
    "predicted = model.predict(test_data)\n",
    "score = metrics.accuracy_score(test_labels, predicted)\n",
    "print(\"Accuracy = {:.2f}\".format(score))"
   ]
  },
  {
   "cell_type": "markdown",
   "metadata": {},
   "source": [
    "### Persist Model "
   ]
  },
  {
   "cell_type": "markdown",
   "metadata": {},
   "source": [
    "Persist model and store your pipeline and model in Watson Machine Learning repository"
   ]
  },
  {
   "cell_type": "code",
   "execution_count": 11,
   "metadata": {
    "collapsed": true
   },
   "outputs": [],
   "source": [
    "from repository.mlrepositoryclient import MLRepositoryClient\n",
    "from repository.mlrepositoryartifact import MLRepositoryArtifact\n",
    "from repository.mlrepository import MetaProps, MetaNames"
   ]
  },
  {
   "cell_type": "code",
   "execution_count": 12,
   "metadata": {
    "collapsed": true
   },
   "outputs": [],
   "source": [
    "wml_credentials={\n",
    "  \"url\": \"https://ibm-watson-ml.mybluemix.net\",\n",
    "  \"access_key\": \"***\",\n",
    "  \"username\": \"***\",\n",
    "  \"password\": \"***\",\n",
    "  \"instance_id\": \"***\"\n",
    "}"
   ]
  },
  {
   "cell_type": "code",
   "execution_count": 13,
   "metadata": {
    "collapsed": true
   },
   "outputs": [],
   "source": [
    "ml_repository_client = MLRepositoryClient(wml_credentials['url'])\n",
    "ml_repository_client.authorize(wml_credentials['username'], wml_credentials['password'])"
   ]
  },
  {
   "cell_type": "code",
   "execution_count": 14,
   "metadata": {
    "collapsed": true
   },
   "outputs": [],
   "source": [
    "props = MetaProps({MetaNames.AUTHOR_NAME:\"IBM\", MetaNames.AUTHOR_EMAIL:\"ibm@ibm.com\"})"
   ]
  },
  {
   "cell_type": "code",
   "execution_count": 15,
   "metadata": {
    "collapsed": true
   },
   "outputs": [],
   "source": [
    "model_artifact = MLRepositoryArtifact(model, name=\"test\", meta_props=props)"
   ]
  },
  {
   "cell_type": "code",
   "execution_count": 16,
   "metadata": {
    "collapsed": true
   },
   "outputs": [],
   "source": [
    "saved_model = ml_repository_client.models.save(model_artifact)"
   ]
  },
  {
   "cell_type": "code",
   "execution_count": 17,
   "metadata": {},
   "outputs": [
    {
     "data": {
      "text/plain": [
       "['modelVersionHref',\n",
       " 'pipelineVersionHref',\n",
       " 'trainingDataRef',\n",
       " 'creationTime',\n",
       " 'lastUpdated',\n",
       " 'authorEmail',\n",
       " 'authorName',\n",
       " 'version',\n",
       " 'modelType',\n",
       " 'runtime']"
      ]
     },
     "execution_count": 17,
     "metadata": {},
     "output_type": "execute_result"
    }
   ],
   "source": [
    "saved_model.meta.available_props()"
   ]
  },
  {
   "cell_type": "code",
   "execution_count": 18,
   "metadata": {},
   "outputs": [
    {
     "name": "stdout",
     "output_type": "stream",
     "text": [
      "modelType: scikit-model-0.17\n",
      "runtime: python-2.7\n",
      "creationTime: 2017-11-01 19:35:53.509000+00:00\n",
      "modelVersionHref: https://ibm-watson-ml.mybluemix.net/v2/artifacts/models/d22fa78c-e105-42db-9a8d-2d14339ce420/versions/faffc0cf-6e28-4913-950c-6abbb62faf60\n"
     ]
    }
   ],
   "source": [
    "print(\"modelType: \" + saved_model.meta.prop(\"modelType\"))\n",
    "print(\"runtime: \" + saved_model.meta.prop(\"runtime\"))\n",
    "print(\"creationTime: \" + str(saved_model.meta.prop(\"creationTime\")))\n",
    "print(\"modelVersionHref: \" + saved_model.meta.prop(\"modelVersionHref\"))"
   ]
  },
  {
   "cell_type": "markdown",
   "metadata": {},
   "source": [
    "### Load model"
   ]
  },
  {
   "cell_type": "code",
   "execution_count": 19,
   "metadata": {
    "collapsed": true
   },
   "outputs": [],
   "source": [
    "loadedModelArtifact = ml_repository_client.models.get(saved_model.uid)"
   ]
  },
  {
   "cell_type": "code",
   "execution_count": 20,
   "metadata": {},
   "outputs": [
    {
     "name": "stdout",
     "output_type": "stream",
     "text": [
      "test\n",
      "d22fa78c-e105-42db-9a8d-2d14339ce420\n"
     ]
    }
   ],
   "source": [
    "print(loadedModelArtifact.name)\n",
    "print(saved_model.uid)"
   ]
  },
  {
   "cell_type": "markdown",
   "metadata": {},
   "source": [
    "Make local prediction"
   ]
  },
  {
   "cell_type": "code",
   "execution_count": 21,
   "metadata": {
    "collapsed": true
   },
   "outputs": [],
   "source": [
    "score_data = x[int(0.9*samples_count): ]\n",
    "predictions = loadedModelArtifact.model_instance().predict(score_data)"
   ]
  },
  {
   "cell_type": "code",
   "execution_count": 22,
   "metadata": {},
   "outputs": [
    {
     "name": "stdout",
     "output_type": "stream",
     "text": [
      "[1 1 1 3 1 3 4 3 3 1 1 1 1 1 1 1 1 1 1 1 1 1 1 1 1 1 1 1 3 4 1 3 1 1 1 1 1\n",
      " 1 1 1]\n"
     ]
    }
   ],
   "source": [
    "print(predictions)"
   ]
  },
  {
   "cell_type": "markdown",
   "metadata": {},
   "source": [
    "### Deploy and score in a Cloud"
   ]
  },
  {
   "cell_type": "markdown",
   "metadata": {},
   "source": [
    "To work with the Watson Machine Learning REST API you must generate an access token. To do that you can use the following sample code."
   ]
  },
  {
   "cell_type": "code",
   "execution_count": 23,
   "metadata": {
    "collapsed": true
   },
   "outputs": [],
   "source": [
    "import urllib3, requests, json\n",
    "\n",
    "headers = urllib3.util.make_headers(basic_auth='{username}:{password}'.format(username=wml_credentials['username'], password=wml_credentials['password']))\n",
    "url = '{}/v3/identity/token'.format(wml_credentials['url'])\n",
    "response = requests.get(url, headers=headers)\n",
    "mltoken = json.loads(response.text).get('token')"
   ]
  },
  {
   "cell_type": "markdown",
   "metadata": {},
   "source": [
    "Create an online scoring endpoint. Get the published_models URL from the instance details."
   ]
  },
  {
   "cell_type": "code",
   "execution_count": 24,
   "metadata": {},
   "outputs": [
    {
     "name": "stdout",
     "output_type": "stream",
     "text": [
      "<Response [200]>\n",
      "{\"metadata\":{\"guid\":\"4bb6fb38-c1c7-4a92-87cc-5bba334836d1\",\"url\":\"https://ibm-watson-ml.mybluemix.net/v3/wml_instances/4bb6fb38-c1c7-4a92-87cc-5bba334836d1\",\"created_at\":\"2017-08-07T20:11:09.647Z\",\"modified_at\":\"2017-11-01T19:35:53.566Z\"},\"entity\":{\"source\":\"Bluemix\",\"published_models\":{\"url\":\"https://ibm-watson-ml.mybluemix.net/v3/wml_instances/4bb6fb38-c1c7-4a92-87cc-5bba334836d1/published_models\"},\"usage\":{\"expiration_date\":\"2017-12-01T00:00:00.000Z\",\"computation_time\":{\"limit\":18000,\"current\":0},\"model_count\":{\"limit\":200,\"current\":4},\"prediction_count\":{\"limit\":5000,\"current\":10},\"deployment_count\":{\"limit\":5,\"current\":3}},\"plan_id\":\"3f6acf43-ede8-413a-ac69-f8af3bb0cbfe\",\"status\":\"Active\",\"organization_guid\":\"a9547942-9cdd-4663-bafe-280ce52533d0\",\"region\":\"us-south\",\"account\":{\"id\":\"3b8c2aec8e03a8f1b09ec6ccbddc0abe\",\"name\":\"IBM\",\"type\":\"TRIAL\"},\"owner\":{\"user_id\":\"c26275bd-c476-4eb4-9201-25382a43ea18\",\"email\":\"chengxi.li@ibm.com\",\"country_code\":\"USA\",\"beta_user\":true},\"deployments\":{\"url\":\"https://ibm-watson-ml.mybluemix.net/v3/wml_instances/4bb6fb38-c1c7-4a92-87cc-5bba334836d1/deployments\"},\"space_guid\":\"ab311029-43f3-48e3-95a0-ff501c2840ba\",\"plan\":\"free\"}}\n"
     ]
    }
   ],
   "source": [
    "endpoint_instance = wml_credentials['url'] + \"/v3/wml_instances/\" + wml_credentials['instance_id']\n",
    "header = {'Content-Type': 'application/json', 'Authorization': 'Bearer ' + mltoken} \n",
    "\n",
    "response_get_instance = requests.get(endpoint_instance, headers=header)\n",
    "print(response_get_instance)\n",
    "print(response_get_instance.text)"
   ]
  },
  {
   "cell_type": "code",
   "execution_count": 25,
   "metadata": {},
   "outputs": [
    {
     "name": "stdout",
     "output_type": "stream",
     "text": [
      "https://ibm-watson-ml.mybluemix.net/v3/wml_instances/4bb6fb38-c1c7-4a92-87cc-5bba334836d1/published_models\n"
     ]
    }
   ],
   "source": [
    "endpoint_published_models = json.loads(response_get_instance.text).get('entity').get('published_models').get('url')\n",
    "\n",
    "print(endpoint_published_models)\n"
   ]
  },
  {
   "cell_type": "markdown",
   "metadata": {},
   "source": [
    "Execute the following sample code that uses the published_models endpoint to get deployments URL. Get the list of published models."
   ]
  },
  {
   "cell_type": "code",
   "execution_count": 26,
   "metadata": {},
   "outputs": [
    {
     "name": "stdout",
     "output_type": "stream",
     "text": [
      "<Response [200]>\n",
      "{\"count\":4,\"resources\":[{\"metadata\":{\"guid\":\"28f0fcf8-4d28-4944-aea6-91cd35c5132c\",\"url\":\"https://ibm-watson-ml.mybluemix.net/v3/wml_instances/4bb6fb38-c1c7-4a92-87cc-5bba334836d1/published_models/28f0fcf8-4d28-4944-aea6-91cd35c5132c\",\"created_at\":\"2017-11-01T18:57:53.852Z\",\"modified_at\":\"2017-11-01T18:57:59.115Z\"},\"entity\":{\"runtime_environment\":\"python-2.7\",\"learning_configuration_url\":\"https://ibm-watson-ml.mybluemix.net/v3/wml_instances/4bb6fb38-c1c7-4a92-87cc-5bba334836d1/published_models/28f0fcf8-4d28-4944-aea6-91cd35c5132c/learning_configuration\",\"author\":{\"name\":\"IBM\",\"email\":\"ibm@ibm.com\"},\"name\":\"test\",\"learning_iterations_url\":\"https://ibm-watson-ml.mybluemix.net/v3/wml_instances/4bb6fb38-c1c7-4a92-87cc-5bba334836d1/published_models/28f0fcf8-4d28-4944-aea6-91cd35c5132c/learning_iterations\",\"feedback_url\":\"https://ibm-watson-ml.mybluemix.net/v3/wml_instances/4bb6fb38-c1c7-4a92-87cc-5bba334836d1/published_models/28f0fcf8-4d28-4944-aea6-91cd35c5132c/feedback\",\"latest_version\":{\"url\":\"https://ibm-watson-ml.mybluemix.net/v2/artifacts/models/28f0fcf8-4d28-4944-aea6-91cd35c5132c/versions/960f3c50-1834-47cc-8180-93c6025c85c3\",\"guid\":\"960f3c50-1834-47cc-8180-93c6025c85c3\",\"created_at\":\"2017-11-01T18:57:54.008Z\"},\"model_type\":\"scikit-model-0.17\",\"deployments\":{\"count\":1,\"url\":\"https://ibm-watson-ml.mybluemix.net/v3/wml_instances/4bb6fb38-c1c7-4a92-87cc-5bba334836d1/published_models/28f0fcf8-4d28-4944-aea6-91cd35c5132c/deployments\"},\"deployed_version\":{\"url\":\"https://ibm-watson-ml.mybluemix.net/v2/artifacts/models/28f0fcf8-4d28-4944-aea6-91cd35c5132c/versions/960f3c50-1834-47cc-8180-93c6025c85c3\",\"guid\":\"960f3c50-1834-47cc-8180-93c6025c85c3\",\"created_at\":\"2017-11-01T18:57:54.008Z\"},\"evaluation_metrics_url\":\"https://ibm-watson-ml.mybluemix.net/v3/wml_instances/4bb6fb38-c1c7-4a92-87cc-5bba334836d1/published_models/28f0fcf8-4d28-4944-aea6-91cd35c5132c/evaluation_metrics\"}},{\"metadata\":{\"guid\":\"38983a95-59f6-43ab-84fc-f5750d93549b\",\"url\":\"https://ibm-watson-ml.mybluemix.net/v3/wml_instances/4bb6fb38-c1c7-4a92-87cc-5bba334836d1/published_models/38983a95-59f6-43ab-84fc-f5750d93549b\",\"created_at\":\"2017-11-01T18:43:21.709Z\",\"modified_at\":\"2017-11-01T18:43:23.624Z\"},\"entity\":{\"runtime_environment\":\"python-2.7\",\"learning_configuration_url\":\"https://ibm-watson-ml.mybluemix.net/v3/wml_instances/4bb6fb38-c1c7-4a92-87cc-5bba334836d1/published_models/38983a95-59f6-43ab-84fc-f5750d93549b/learning_configuration\",\"author\":{\"name\":\"IBM\",\"email\":\"ibm@ibm.com\"},\"name\":\"test\",\"learning_iterations_url\":\"https://ibm-watson-ml.mybluemix.net/v3/wml_instances/4bb6fb38-c1c7-4a92-87cc-5bba334836d1/published_models/38983a95-59f6-43ab-84fc-f5750d93549b/learning_iterations\",\"feedback_url\":\"https://ibm-watson-ml.mybluemix.net/v3/wml_instances/4bb6fb38-c1c7-4a92-87cc-5bba334836d1/published_models/38983a95-59f6-43ab-84fc-f5750d93549b/feedback\",\"latest_version\":{\"url\":\"https://ibm-watson-ml.mybluemix.net/v2/artifacts/models/38983a95-59f6-43ab-84fc-f5750d93549b/versions/6afeeab3-2a6c-40b6-b452-e3e4e61123fd\",\"guid\":\"6afeeab3-2a6c-40b6-b452-e3e4e61123fd\",\"created_at\":\"2017-11-01T18:43:21.829Z\"},\"model_type\":\"scikit-model-0.17\",\"deployments\":{\"count\":1,\"url\":\"https://ibm-watson-ml.mybluemix.net/v3/wml_instances/4bb6fb38-c1c7-4a92-87cc-5bba334836d1/published_models/38983a95-59f6-43ab-84fc-f5750d93549b/deployments\"},\"deployed_version\":{\"url\":\"https://ibm-watson-ml.mybluemix.net/v2/artifacts/models/38983a95-59f6-43ab-84fc-f5750d93549b/versions/6afeeab3-2a6c-40b6-b452-e3e4e61123fd\",\"guid\":\"6afeeab3-2a6c-40b6-b452-e3e4e61123fd\",\"created_at\":\"2017-11-01T18:43:21.829Z\"},\"evaluation_metrics_url\":\"https://ibm-watson-ml.mybluemix.net/v3/wml_instances/4bb6fb38-c1c7-4a92-87cc-5bba334836d1/published_models/38983a95-59f6-43ab-84fc-f5750d93549b/evaluation_metrics\"}},{\"metadata\":{\"guid\":\"5b351fe9-aa5c-4502-8782-8e732e7e80a6\",\"url\":\"https://ibm-watson-ml.mybluemix.net/v3/wml_instances/4bb6fb38-c1c7-4a92-87cc-5bba334836d1/published_models/5b351fe9-aa5c-4502-8782-8e732e7e80a6\",\"created_at\":\"2017-11-01T18:49:51.102Z\",\"modified_at\":\"2017-11-01T18:49:52.792Z\"},\"entity\":{\"runtime_environment\":\"python-2.7\",\"learning_configuration_url\":\"https://ibm-watson-ml.mybluemix.net/v3/wml_instances/4bb6fb38-c1c7-4a92-87cc-5bba334836d1/published_models/5b351fe9-aa5c-4502-8782-8e732e7e80a6/learning_configuration\",\"author\":{\"name\":\"IBM\",\"email\":\"ibm@ibm.com\"},\"name\":\"test\",\"learning_iterations_url\":\"https://ibm-watson-ml.mybluemix.net/v3/wml_instances/4bb6fb38-c1c7-4a92-87cc-5bba334836d1/published_models/5b351fe9-aa5c-4502-8782-8e732e7e80a6/learning_iterations\",\"feedback_url\":\"https://ibm-watson-ml.mybluemix.net/v3/wml_instances/4bb6fb38-c1c7-4a92-87cc-5bba334836d1/published_models/5b351fe9-aa5c-4502-8782-8e732e7e80a6/feedback\",\"latest_version\":{\"url\":\"https://ibm-watson-ml.mybluemix.net/v2/artifacts/models/5b351fe9-aa5c-4502-8782-8e732e7e80a6/versions/69a7435d-ac98-45af-932d-b6948c329937\",\"guid\":\"69a7435d-ac98-45af-932d-b6948c329937\",\"created_at\":\"2017-11-01T18:49:51.212Z\"},\"model_type\":\"scikit-model-0.17\",\"deployments\":{\"count\":1,\"url\":\"https://ibm-watson-ml.mybluemix.net/v3/wml_instances/4bb6fb38-c1c7-4a92-87cc-5bba334836d1/published_models/5b351fe9-aa5c-4502-8782-8e732e7e80a6/deployments\"},\"deployed_version\":{\"url\":\"https://ibm-watson-ml.mybluemix.net/v2/artifacts/models/5b351fe9-aa5c-4502-8782-8e732e7e80a6/versions/69a7435d-ac98-45af-932d-b6948c329937\",\"guid\":\"69a7435d-ac98-45af-932d-b6948c329937\",\"created_at\":\"2017-11-01T18:49:51.212Z\"},\"evaluation_metrics_url\":\"https://ibm-watson-ml.mybluemix.net/v3/wml_instances/4bb6fb38-c1c7-4a92-87cc-5bba334836d1/published_models/5b351fe9-aa5c-4502-8782-8e732e7e80a6/evaluation_metrics\"}},{\"metadata\":{\"guid\":\"d22fa78c-e105-42db-9a8d-2d14339ce420\",\"url\":\"https://ibm-watson-ml.mybluemix.net/v3/wml_instances/4bb6fb38-c1c7-4a92-87cc-5bba334836d1/published_models/d22fa78c-e105-42db-9a8d-2d14339ce420\",\"created_at\":\"2017-11-01T19:35:53.509Z\",\"modified_at\":\"2017-11-01T19:35:53.571Z\"},\"entity\":{\"runtime_environment\":\"python-2.7\",\"learning_configuration_url\":\"https://ibm-watson-ml.mybluemix.net/v3/wml_instances/4bb6fb38-c1c7-4a92-87cc-5bba334836d1/published_models/d22fa78c-e105-42db-9a8d-2d14339ce420/learning_configuration\",\"author\":{\"name\":\"IBM\",\"email\":\"ibm@ibm.com\"},\"name\":\"test\",\"learning_iterations_url\":\"https://ibm-watson-ml.mybluemix.net/v3/wml_instances/4bb6fb38-c1c7-4a92-87cc-5bba334836d1/published_models/d22fa78c-e105-42db-9a8d-2d14339ce420/learning_iterations\",\"feedback_url\":\"https://ibm-watson-ml.mybluemix.net/v3/wml_instances/4bb6fb38-c1c7-4a92-87cc-5bba334836d1/published_models/d22fa78c-e105-42db-9a8d-2d14339ce420/feedback\",\"latest_version\":{\"url\":\"https://ibm-watson-ml.mybluemix.net/v2/artifacts/models/d22fa78c-e105-42db-9a8d-2d14339ce420/versions/faffc0cf-6e28-4913-950c-6abbb62faf60\",\"guid\":\"faffc0cf-6e28-4913-950c-6abbb62faf60\",\"created_at\":\"2017-11-01T19:35:53.571Z\"},\"model_type\":\"scikit-model-0.17\",\"deployments\":{\"count\":0,\"url\":\"https://ibm-watson-ml.mybluemix.net/v3/wml_instances/4bb6fb38-c1c7-4a92-87cc-5bba334836d1/published_models/d22fa78c-e105-42db-9a8d-2d14339ce420/deployments\"},\"evaluation_metrics_url\":\"https://ibm-watson-ml.mybluemix.net/v3/wml_instances/4bb6fb38-c1c7-4a92-87cc-5bba334836d1/published_models/d22fa78c-e105-42db-9a8d-2d14339ce420/evaluation_metrics\"}}]}\n"
     ]
    }
   ],
   "source": [
    "header = {'Content-Type': 'application/json', 'Authorization': 'Bearer ' + mltoken}\n",
    "response_get = requests.get(endpoint_published_models, headers=header)\n",
    "\n",
    "print(response_get)\n",
    "print(response_get.text)"
   ]
  },
  {
   "cell_type": "markdown",
   "metadata": {},
   "source": [
    "Get the published model deployment URL."
   ]
  },
  {
   "cell_type": "code",
   "execution_count": 27,
   "metadata": {},
   "outputs": [
    {
     "name": "stdout",
     "output_type": "stream",
     "text": [
      "https://ibm-watson-ml.mybluemix.net/v3/wml_instances/4bb6fb38-c1c7-4a92-87cc-5bba334836d1/published_models/d22fa78c-e105-42db-9a8d-2d14339ce420/deployments\n"
     ]
    }
   ],
   "source": [
    "[endpoint_deployments] = [x.get('entity').get('deployments').get('url') for x in json.loads(response_get.text).get('resources') if x.get('metadata').get('guid') == saved_model.uid]\n",
    "\n",
    "print(endpoint_deployments)"
   ]
  },
  {
   "cell_type": "markdown",
   "metadata": {},
   "source": [
    "Create an online deployment for the published model."
   ]
  },
  {
   "cell_type": "code",
   "execution_count": 28,
   "metadata": {},
   "outputs": [
    {
     "name": "stdout",
     "output_type": "stream",
     "text": [
      "<Response [201]>\n",
      "{\"metadata\":{\"guid\":\"20e45280-3736-4a34-a48a-fa94bc0fbfe9\",\"url\":\"https://ibm-watson-ml.mybluemix.net/v3/wml_instances/4bb6fb38-c1c7-4a92-87cc-5bba334836d1/published_models/d22fa78c-e105-42db-9a8d-2d14339ce420/deployments/20e45280-3736-4a34-a48a-fa94bc0fbfe9\",\"created_at\":\"2017-11-01T19:35:58.231Z\",\"modified_at\":\"2017-11-01T19:35:59.751Z\"},\"entity\":{\"runtime_environment\":\"python-2.7\",\"name\":\"test\",\"scoring_url\":\"https://ibm-watson-ml.mybluemix.net/v3/wml_instances/4bb6fb38-c1c7-4a92-87cc-5bba334836d1/published_models/d22fa78c-e105-42db-9a8d-2d14339ce420/deployments/20e45280-3736-4a34-a48a-fa94bc0fbfe9/online\",\"description\":\"test\",\"published_model\":{\"author\":{\"name\":\"IBM\",\"email\":\"ibm@ibm.com\"},\"name\":\"test\",\"url\":\"https://ibm-watson-ml.mybluemix.net/v3/wml_instances/4bb6fb38-c1c7-4a92-87cc-5bba334836d1/published_models/d22fa78c-e105-42db-9a8d-2d14339ce420\",\"guid\":\"d22fa78c-e105-42db-9a8d-2d14339ce420\",\"created_at\":\"2017-11-01T19:35:58.205Z\"},\"model_type\":\"scikit-model-0.17\",\"status\":\"INITIALIZING\",\"type\":\"online\",\"deployed_version\":{\"url\":\"https://ibm-watson-ml.mybluemix.net/v2/artifacts/models/d22fa78c-e105-42db-9a8d-2d14339ce420/versions/faffc0cf-6e28-4913-950c-6abbb62faf60\",\"guid\":\"faffc0cf-6e28-4913-950c-6abbb62faf60\",\"created_at\":\"2017-11-01T19:35:53.571Z\"}}}\n"
     ]
    }
   ],
   "source": [
    "payload_online = {\"name\": \"test\", \"description\": \"test\", \"type\": \"online\"}\n",
    "response_online = requests.post(endpoint_deployments, json=payload_online, headers=header)\n",
    "\n",
    "print(response_online)\n",
    "print(response_online.text)"
   ]
  },
  {
   "cell_type": "markdown",
   "metadata": {},
   "source": [
    "Load the scoring URL. "
   ]
  },
  {
   "cell_type": "code",
   "execution_count": 29,
   "metadata": {},
   "outputs": [
    {
     "name": "stdout",
     "output_type": "stream",
     "text": [
      "https://ibm-watson-ml.mybluemix.net/v3/wml_instances/4bb6fb38-c1c7-4a92-87cc-5bba334836d1/published_models/d22fa78c-e105-42db-9a8d-2d14339ce420/deployments/20e45280-3736-4a34-a48a-fa94bc0fbfe9/online\n"
     ]
    }
   ],
   "source": [
    "scoring_url = json.loads(response_online.text).get('entity').get('scoring_url')\n",
    "\n",
    "print(scoring_url)"
   ]
  },
  {
   "cell_type": "markdown",
   "metadata": {},
   "source": [
    "Using samples for prediction"
   ]
  },
  {
   "cell_type": "code",
   "execution_count": 30,
   "metadata": {
    "collapsed": true
   },
   "outputs": [],
   "source": [
    "test_1 = data[1]\n",
    "test_2 = data[2]\n",
    "label_1 = label[1]\n",
    "label_2 = label[2]"
   ]
  },
  {
   "cell_type": "code",
   "execution_count": 31,
   "metadata": {},
   "outputs": [
    {
     "name": "stdout",
     "output_type": "stream",
     "text": [
      "{'values': [[-1.0893794720944747, 1.5016242793620063, 1.5879594901955474, 0.8532590135498572, -1.4751810504376373, 70.0, 1.0, 0.0, 0.0], [-0.7055506566787514, 1.1947282434492943, 1.19552176380289, 0.5497784722839334, -1.6564922906557151, 70.0, 1.0, 0.0, 0.0]]}\n"
     ]
    }
   ],
   "source": [
    "payload_scoring = {\"values\": [test_1, test_2]}\n",
    "print(payload_scoring)"
   ]
  },
  {
   "cell_type": "code",
   "execution_count": 32,
   "metadata": {},
   "outputs": [
    {
     "name": "stdout",
     "output_type": "stream",
     "text": [
      "{\n",
      "  \"values\": [[4, [0.0, 0.0, 0.0, 0.0, 1.0]], [4, [0.0, 0.0, 0.0, 0.01, 0.99]]],\n",
      "  \"fields\": [\"prediction\", \"probability\"]\n",
      "}\n"
     ]
    }
   ],
   "source": [
    "response_scoring = requests.post(scoring_url, json=payload_scoring, headers=header)\n",
    "print(response_scoring.text)"
   ]
  },
  {
   "cell_type": "markdown",
   "metadata": {},
   "source": [
    "Checking the original labels for testing data"
   ]
  },
  {
   "cell_type": "code",
   "execution_count": 33,
   "metadata": {},
   "outputs": [
    {
     "name": "stdout",
     "output_type": "stream",
     "text": [
      "4\n",
      "4\n"
     ]
    }
   ],
   "source": [
    "print(label_1)\n",
    "print(label_2)"
   ]
  },
  {
   "cell_type": "markdown",
   "metadata": {},
   "source": [
    "Resources: \n",
    "1) https://dataplatform.ibm.com/docs/content/analyze-data/ml-deploy.html?context=analytics\n",
    "2)https://dataplatform.ibm.com/analytics/notebooks/5215a61a-16d7-4fa2-b060-e3e243ceebe3/view?access_token=70f48c95c5571a614ce97484d3f168b1d9b6aeebce015187d3d77ce6038f025e#\n"
   ]
  },
  {
   "cell_type": "code",
   "execution_count": null,
   "metadata": {
    "collapsed": true
   },
   "outputs": [],
   "source": []
  }
 ],
 "metadata": {
  "kernelspec": {
   "display_name": "Python 2 with Spark 2.1",
   "language": "python",
   "name": "python2-spark21"
  },
  "language_info": {
   "codemirror_mode": {
    "name": "ipython",
    "version": 2
   },
   "file_extension": ".py",
   "mimetype": "text/x-python",
   "name": "python",
   "nbconvert_exporter": "python",
   "pygments_lexer": "ipython2",
   "version": "2.7.11"
  }
 },
 "nbformat": 4,
 "nbformat_minor": 1
}
